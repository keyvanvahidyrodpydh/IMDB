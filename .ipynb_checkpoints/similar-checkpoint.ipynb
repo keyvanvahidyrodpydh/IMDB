{
 "cells": [
  {
   "cell_type": "markdown",
   "metadata": {},
   "source": [
    "# Recommendation System ; Similarity-Based (Amr Elsayed)"
   ]
  },
  {
   "cell_type": "code",
   "execution_count": 1,
   "metadata": {},
   "outputs": [],
   "source": [
    "import pandas as pd\n",
    "import numpy\n",
    "import random\n",
    "from collections import defaultdict"
   ]
  },
  {
   "cell_type": "code",
   "execution_count": 2,
   "metadata": {},
   "outputs": [],
   "source": [
    "\n",
    "ratings = pd.read_csv('train/ratings.csv')\n",
    "items = pd.read_csv('train/items.csv')\n",
    "users = pd.read_csv('train/users.csv')\n",
    "contexts = pd.read_csv('train/context.csv')"
   ]
  },
  {
   "cell_type": "code",
   "execution_count": 3,
   "metadata": {},
   "outputs": [
    {
     "data": {
      "text/plain": [
       "0          11\n",
       "1         214\n",
       "2         215\n",
       "3         216\n",
       "4          99\n",
       "         ... \n",
       "16492    3793\n",
       "16493    3794\n",
       "16494    3579\n",
       "16495    3788\n",
       "16496    3795\n",
       "Name: itemID, Length: 16497, dtype: int64"
      ]
     },
     "execution_count": 3,
     "metadata": {},
     "output_type": "execute_result"
    }
   ],
   "source": [
    "ratings['itemID']\n",
    "#dataset['user_id']"
   ]
  },
  {
   "cell_type": "code",
   "execution_count": 4,
   "metadata": {},
   "outputs": [],
   "source": [
    "usersPeritem = defaultdict(set)\n",
    "itemPeruser = defaultdict(set)"
   ]
  },
  {
   "cell_type": "code",
   "execution_count": 5,
   "metadata": {},
   "outputs": [
    {
     "data": {
      "text/plain": [
       "defaultdict(set, {})"
      ]
     },
     "execution_count": 5,
     "metadata": {},
     "output_type": "execute_result"
    }
   ],
   "source": [
    "itemPeruser"
   ]
  },
  {
   "cell_type": "code",
   "execution_count": 6,
   "metadata": {},
   "outputs": [],
   "source": [
    "for index,row in ratings.iterrows():\n",
    "    x = [row['userID'] ,row['itemID']]\n",
    "    for i in x:\n",
    "        usersPeritem[x[1]].add(x[0])\n",
    "        itemPeruser[x[0]].add(x[1])\n",
    "    #print(row['user_id'],row['item_id'])"
   ]
  },
  {
   "cell_type": "code",
   "execution_count": 7,
   "metadata": {},
   "outputs": [],
   "source": [
    "def jaccard(s1,s2):\n",
    "    numer = len(s1.intersection(s2))\n",
    "    denom = len(s1.union(s2))\n",
    "    return numer / denom"
   ]
  },
  {
   "cell_type": "code",
   "execution_count": 8,
   "metadata": {},
   "outputs": [],
   "source": [
    "def mostsimilar(i):\n",
    "    similar = []\n",
    "    users = usersPeritem[i]\n",
    "    candidateitems = set()\n",
    "    for u in users:\n",
    "        candidateitems = candidateitems.union(itemPeruser[u])\n",
    "    for i2 in candidateitems:\n",
    "        if i2 == i: continue\n",
    "        sim = jaccard(users,usersPeritem[i2])\n",
    "        similar.append((sim,i2))\n",
    "    similar.sort(reverse=True)\n",
    "    return similar[:10]\n",
    "            "
   ]
  },
  {
   "cell_type": "code",
   "execution_count": 9,
   "metadata": {},
   "outputs": [
    {
     "data": {
      "text/plain": [
       "[(1.0, 3794),\n",
       " (1.0, 3762),\n",
       " (1.0, 3680),\n",
       " (1.0, 3654),\n",
       " (1.0, 3591),\n",
       " (1.0, 3567),\n",
       " (1.0, 72),\n",
       " (1.0, 71),\n",
       " (1.0, 37),\n",
       " (0.8571428571428571, 4379)]"
      ]
     },
     "execution_count": 9,
     "metadata": {},
     "output_type": "execute_result"
    }
   ],
   "source": [
    "mostsimilar(i+1)"
   ]
  },
  {
   "cell_type": "code",
   "execution_count": null,
   "metadata": {},
   "outputs": [],
   "source": []
  }
 ],
 "metadata": {
  "kernelspec": {
   "display_name": "Python 3",
   "language": "python",
   "name": "python3"
  },
  "language_info": {
   "codemirror_mode": {
    "name": "ipython",
    "version": 3
   },
   "file_extension": ".py",
   "mimetype": "text/x-python",
   "name": "python",
   "nbconvert_exporter": "python",
   "pygments_lexer": "ipython3",
   "version": "3.7.6"
  }
 },
 "nbformat": 4,
 "nbformat_minor": 2
}
