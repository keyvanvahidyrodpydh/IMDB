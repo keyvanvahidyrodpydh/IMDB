{
 "cells": [
  {
   "cell_type": "markdown",
   "metadata": {},
   "source": [
    "# Recommendation System ; Similarity-Based (Amr Elsayed)"
   ]
  },
  {
   "cell_type": "code",
   "execution_count": 18,
   "metadata": {},
   "outputs": [],
   "source": [
    "import pandas as pd\n",
    "import numpy\n",
    "import random\n",
    "from collections import defaultdict"
   ]
  },
  {
   "cell_type": "code",
   "execution_count": 19,
   "metadata": {},
   "outputs": [],
   "source": [
    "\n",
    "ratings = pd.read_csv('data/ratings.csv')\n",
    "items = pd.read_csv('data/items.csv')\n",
    "users = pd.read_csv('data/users.csv')\n",
    "contexts = pd.read_csv('data/contexts.csv')"
   ]
  },
  {
   "cell_type": "code",
   "execution_count": 20,
   "metadata": {},
   "outputs": [
    {
     "data": {
      "text/plain": [
       "0          11\n",
       "1         214\n",
       "2         215\n",
       "3         216\n",
       "4          99\n",
       "         ... \n",
       "20753    4016\n",
       "20754      47\n",
       "20755      30\n",
       "20756     203\n",
       "20757    3918\n",
       "Name: itemID, Length: 20758, dtype: int64"
      ]
     },
     "execution_count": 20,
     "metadata": {},
     "output_type": "execute_result"
    }
   ],
   "source": [
    "ratings['itemID']\n",
    "#dataset['user_id']"
   ]
  },
  {
   "cell_type": "code",
   "execution_count": 21,
   "metadata": {},
   "outputs": [],
   "source": [
    "usersPeritem = defaultdict(set)\n",
    "itemPeruser = defaultdict(set)"
   ]
  },
  {
   "cell_type": "code",
   "execution_count": 22,
   "metadata": {},
   "outputs": [
    {
     "data": {
      "text/plain": [
       "defaultdict(set, {})"
      ]
     },
     "execution_count": 22,
     "metadata": {},
     "output_type": "execute_result"
    }
   ],
   "source": [
    "itemPeruser"
   ]
  },
  {
   "cell_type": "code",
   "execution_count": 23,
   "metadata": {},
   "outputs": [],
   "source": [
    "for index,row in ratings.iterrows():\n",
    "    x = [row['userID'] ,row['itemID']]\n",
    "    for i in x:\n",
    "        usersPeritem[x[1]].add(x[0])\n",
    "        itemPeruser[x[0]].add(x[1])\n",
    "    #print(row['user_id'],row['item_id'])"
   ]
  },
  {
   "cell_type": "code",
   "execution_count": 25,
   "metadata": {},
   "outputs": [],
   "source": [
    "def jaccard(s1,s2):\n",
    "    numer = len(s1.intersection(s2))\n",
    "    denom = len(s1.union(s2))\n",
    "    return numer / denom"
   ]
  },
  {
   "cell_type": "code",
   "execution_count": 26,
   "metadata": {},
   "outputs": [],
   "source": [
    "def mostsimilar(i):\n",
    "    similar = []\n",
    "    users = usersPeritem[i]\n",
    "    candidateitems = set()\n",
    "    for u in users:\n",
    "        candidateitems = candidateitems.union(itemPeruser[u])\n",
    "    for i2 in candidateitems:\n",
    "        if i2 == i: continue\n",
    "        sim = jaccard(users,usersPeritem[i2])\n",
    "        similar.append((sim,i2))\n",
    "    similar.sort(reverse=True)\n",
    "    return similar[:10]\n",
    "            "
   ]
  },
  {
   "cell_type": "code",
   "execution_count": 27,
   "metadata": {},
   "outputs": [
    {
     "data": {
      "text/plain": [
       "[(0.5609756097560976, 4297),\n",
       " (0.5609756097560976, 177),\n",
       " (0.46551724137931033, 4151),\n",
       " (0.46551724137931033, 4098),\n",
       " (0.46, 4188),\n",
       " (0.46, 155),\n",
       " (0.43902439024390244, 4299),\n",
       " (0.43902439024390244, 4295),\n",
       " (0.43902439024390244, 4148),\n",
       " (0.43902439024390244, 4078)]"
      ]
     },
     "execution_count": 27,
     "metadata": {},
     "output_type": "execute_result"
    }
   ],
   "source": [
    "mostsimilar(73)"
   ]
  },
  {
   "cell_type": "code",
   "execution_count": null,
   "metadata": {},
   "outputs": [],
   "source": []
  }
 ],
 "metadata": {
  "kernelspec": {
   "display_name": "Python 3",
   "language": "python",
   "name": "python3"
  },
  "language_info": {
   "codemirror_mode": {
    "name": "ipython",
    "version": 3
   },
   "file_extension": ".py",
   "mimetype": "text/x-python",
   "name": "python",
   "nbconvert_exporter": "python",
   "pygments_lexer": "ipython3",
   "version": "3.7.6"
  }
 },
 "nbformat": 4,
 "nbformat_minor": 2
}
